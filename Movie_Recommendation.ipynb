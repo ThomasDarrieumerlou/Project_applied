{
  "cells": [
    {
      "cell_type": "markdown",
      "metadata": {
        "id": "view-in-github",
        "colab_type": "text"
      },
      "source": [
        "<a href=\"https://colab.research.google.com/github/ThomasDarrieumerlou/Project_applied/blob/main/Movie_Recommendation.ipynb\" target=\"_parent\"><img src=\"https://colab.research.google.com/assets/colab-badge.svg\" alt=\"Open In Colab\"/></a>"
      ]
    },
    {
      "cell_type": "markdown",
      "id": "788a8382",
      "metadata": {
        "papermill": {
          "duration": 0.030046,
          "end_time": "2022-03-15T05:15:15.009630",
          "exception": false,
          "start_time": "2022-03-15T05:15:14.979584",
          "status": "completed"
        },
        "tags": [],
        "id": "788a8382"
      },
      "source": [
        "# Movie recommendation with sentiment\n"
      ]
    },
    {
      "cell_type": "code",
      "source": [],
      "metadata": {
        "id": "7pW3OEV0wxQM"
      },
      "id": "7pW3OEV0wxQM",
      "execution_count": null,
      "outputs": []
    },
    {
      "cell_type": "markdown",
      "id": "04e09f4e",
      "metadata": {
        "papermill": {
          "duration": 0.028584,
          "end_time": "2022-03-15T05:15:15.070083",
          "exception": false,
          "start_time": "2022-03-15T05:15:15.041499",
          "status": "completed"
        },
        "tags": [],
        "id": "04e09f4e"
      },
      "source": [
        "\n",
        "# The Dataset and The Problem to Solve\n"
      ]
    },
    {
      "cell_type": "markdown",
      "id": "2143ef61",
      "metadata": {
        "papermill": {
          "duration": 0.028418,
          "end_time": "2022-03-15T05:15:15.129171",
          "exception": false,
          "start_time": "2022-03-15T05:15:15.100753",
          "status": "completed"
        },
        "tags": [],
        "id": "2143ef61"
      },
      "source": [
        ">In this notebbok, we’ll use an IMDB dataset of 50k movie reviews. The dataset contains 2 columns (review and sentiment) it show if a review is positive or negative.\n",
        ">\n",
        ">*Problem formulation: The goal of this project is to create a movie recommendation system using machine learning techniques to analyze user reviews. The challenge is to develop an algorithm capable of understanding user preferences from their movie reviews and then suggesting movies that are likely to be of interest based on these reviews..*"
      ]
    },
    {
      "cell_type": "markdown",
      "id": "79be5739",
      "metadata": {
        "papermill": {
          "duration": 0.02841,
          "end_time": "2022-03-15T05:15:15.186400",
          "exception": false,
          "start_time": "2022-03-15T05:15:15.157990",
          "status": "completed"
        },
        "tags": [],
        "id": "79be5739"
      },
      "source": [
        "\n",
        "# 1. Importing necessary libraries\n"
      ]
    },
    {
      "cell_type": "code",
      "execution_count": 2,
      "id": "db94f69e",
      "metadata": {
        "_cell_guid": "b1076dfc-b9ad-4769-8c92-a6c4dae69d19",
        "_uuid": "8f2839f25d086af736a60e9eeb907d3b93b6e0e5",
        "execution": {
          "iopub.execute_input": "2022-03-15T05:15:15.247956Z",
          "iopub.status.busy": "2022-03-15T05:15:15.246921Z",
          "iopub.status.idle": "2022-03-15T05:15:16.234137Z",
          "shell.execute_reply": "2022-03-15T05:15:16.233395Z",
          "shell.execute_reply.started": "2022-03-15T05:12:57.042837Z"
        },
        "papermill": {
          "duration": 1.018891,
          "end_time": "2022-03-15T05:15:16.234290",
          "exception": false,
          "start_time": "2022-03-15T05:15:15.215399",
          "status": "completed"
        },
        "tags": [],
        "id": "db94f69e"
      },
      "outputs": [],
      "source": [
        "import numpy as np\n",
        "import pandas as pd\n",
        "import matplotlib.pyplot as plt\n",
        "import seaborn as sns\n",
        "sns.set_style('darkgrid')"
      ]
    },
    {
      "cell_type": "markdown",
      "id": "8a1d81dc",
      "metadata": {
        "papermill": {
          "duration": 0.030442,
          "end_time": "2022-03-15T05:15:16.367290",
          "exception": false,
          "start_time": "2022-03-15T05:15:16.336848",
          "status": "completed"
        },
        "tags": [],
        "id": "8a1d81dc"
      },
      "source": [
        "\n",
        "# 2. Import the data"
      ]
    },
    {
      "cell_type": "code",
      "execution_count": 3,
      "id": "caa736c0",
      "metadata": {
        "execution": {
          "iopub.execute_input": "2022-03-15T05:15:16.431232Z",
          "iopub.status.busy": "2022-03-15T05:15:16.430608Z",
          "iopub.status.idle": "2022-03-15T05:15:17.819178Z",
          "shell.execute_reply": "2022-03-15T05:15:17.818578Z",
          "shell.execute_reply.started": "2022-03-15T05:12:58.096894Z"
        },
        "papermill": {
          "duration": 1.422331,
          "end_time": "2022-03-15T05:15:17.819318",
          "exception": false,
          "start_time": "2022-03-15T05:15:16.396987",
          "status": "completed"
        },
        "tags": [],
        "colab": {
          "base_uri": "https://localhost:8080/",
          "height": 423
        },
        "id": "caa736c0",
        "outputId": "8f606108-844d-46d8-d435-3a90d85f537c"
      },
      "outputs": [
        {
          "output_type": "execute_result",
          "data": {
            "text/plain": [
              "                                                  review sentiment\n",
              "0      One of the other reviewers has mentioned that ...  positive\n",
              "1      A wonderful little production. <br /><br />The...  positive\n",
              "2      I thought this was a wonderful way to spend ti...  positive\n",
              "3      Basically there's a family where a little boy ...  negative\n",
              "4      Petter Mattei's \"Love in the Time of Money\" is...  positive\n",
              "...                                                  ...       ...\n",
              "49995  I thought this movie did a down right good job...  positive\n",
              "49996  Bad plot, bad dialogue, bad acting, idiotic di...  negative\n",
              "49997  I am a Catholic taught in parochial elementary...  negative\n",
              "49998  I'm going to have to disagree with the previou...  negative\n",
              "49999  No one expects the Star Trek movies to be high...  negative\n",
              "\n",
              "[50000 rows x 2 columns]"
            ],
            "text/html": [
              "\n",
              "  <div id=\"df-0131d14e-dbe0-44e8-9a7a-0a1b81aa98a1\" class=\"colab-df-container\">\n",
              "    <div>\n",
              "<style scoped>\n",
              "    .dataframe tbody tr th:only-of-type {\n",
              "        vertical-align: middle;\n",
              "    }\n",
              "\n",
              "    .dataframe tbody tr th {\n",
              "        vertical-align: top;\n",
              "    }\n",
              "\n",
              "    .dataframe thead th {\n",
              "        text-align: right;\n",
              "    }\n",
              "</style>\n",
              "<table border=\"1\" class=\"dataframe\">\n",
              "  <thead>\n",
              "    <tr style=\"text-align: right;\">\n",
              "      <th></th>\n",
              "      <th>review</th>\n",
              "      <th>sentiment</th>\n",
              "    </tr>\n",
              "  </thead>\n",
              "  <tbody>\n",
              "    <tr>\n",
              "      <th>0</th>\n",
              "      <td>One of the other reviewers has mentioned that ...</td>\n",
              "      <td>positive</td>\n",
              "    </tr>\n",
              "    <tr>\n",
              "      <th>1</th>\n",
              "      <td>A wonderful little production. &lt;br /&gt;&lt;br /&gt;The...</td>\n",
              "      <td>positive</td>\n",
              "    </tr>\n",
              "    <tr>\n",
              "      <th>2</th>\n",
              "      <td>I thought this was a wonderful way to spend ti...</td>\n",
              "      <td>positive</td>\n",
              "    </tr>\n",
              "    <tr>\n",
              "      <th>3</th>\n",
              "      <td>Basically there's a family where a little boy ...</td>\n",
              "      <td>negative</td>\n",
              "    </tr>\n",
              "    <tr>\n",
              "      <th>4</th>\n",
              "      <td>Petter Mattei's \"Love in the Time of Money\" is...</td>\n",
              "      <td>positive</td>\n",
              "    </tr>\n",
              "    <tr>\n",
              "      <th>...</th>\n",
              "      <td>...</td>\n",
              "      <td>...</td>\n",
              "    </tr>\n",
              "    <tr>\n",
              "      <th>49995</th>\n",
              "      <td>I thought this movie did a down right good job...</td>\n",
              "      <td>positive</td>\n",
              "    </tr>\n",
              "    <tr>\n",
              "      <th>49996</th>\n",
              "      <td>Bad plot, bad dialogue, bad acting, idiotic di...</td>\n",
              "      <td>negative</td>\n",
              "    </tr>\n",
              "    <tr>\n",
              "      <th>49997</th>\n",
              "      <td>I am a Catholic taught in parochial elementary...</td>\n",
              "      <td>negative</td>\n",
              "    </tr>\n",
              "    <tr>\n",
              "      <th>49998</th>\n",
              "      <td>I'm going to have to disagree with the previou...</td>\n",
              "      <td>negative</td>\n",
              "    </tr>\n",
              "    <tr>\n",
              "      <th>49999</th>\n",
              "      <td>No one expects the Star Trek movies to be high...</td>\n",
              "      <td>negative</td>\n",
              "    </tr>\n",
              "  </tbody>\n",
              "</table>\n",
              "<p>50000 rows × 2 columns</p>\n",
              "</div>\n",
              "    <div class=\"colab-df-buttons\">\n",
              "\n",
              "  <div class=\"colab-df-container\">\n",
              "    <button class=\"colab-df-convert\" onclick=\"convertToInteractive('df-0131d14e-dbe0-44e8-9a7a-0a1b81aa98a1')\"\n",
              "            title=\"Convert this dataframe to an interactive table.\"\n",
              "            style=\"display:none;\">\n",
              "\n",
              "  <svg xmlns=\"http://www.w3.org/2000/svg\" height=\"24px\" viewBox=\"0 -960 960 960\">\n",
              "    <path d=\"M120-120v-720h720v720H120Zm60-500h600v-160H180v160Zm220 220h160v-160H400v160Zm0 220h160v-160H400v160ZM180-400h160v-160H180v160Zm440 0h160v-160H620v160ZM180-180h160v-160H180v160Zm440 0h160v-160H620v160Z\"/>\n",
              "  </svg>\n",
              "    </button>\n",
              "\n",
              "  <style>\n",
              "    .colab-df-container {\n",
              "      display:flex;\n",
              "      gap: 12px;\n",
              "    }\n",
              "\n",
              "    .colab-df-convert {\n",
              "      background-color: #E8F0FE;\n",
              "      border: none;\n",
              "      border-radius: 50%;\n",
              "      cursor: pointer;\n",
              "      display: none;\n",
              "      fill: #1967D2;\n",
              "      height: 32px;\n",
              "      padding: 0 0 0 0;\n",
              "      width: 32px;\n",
              "    }\n",
              "\n",
              "    .colab-df-convert:hover {\n",
              "      background-color: #E2EBFA;\n",
              "      box-shadow: 0px 1px 2px rgba(60, 64, 67, 0.3), 0px 1px 3px 1px rgba(60, 64, 67, 0.15);\n",
              "      fill: #174EA6;\n",
              "    }\n",
              "\n",
              "    .colab-df-buttons div {\n",
              "      margin-bottom: 4px;\n",
              "    }\n",
              "\n",
              "    [theme=dark] .colab-df-convert {\n",
              "      background-color: #3B4455;\n",
              "      fill: #D2E3FC;\n",
              "    }\n",
              "\n",
              "    [theme=dark] .colab-df-convert:hover {\n",
              "      background-color: #434B5C;\n",
              "      box-shadow: 0px 1px 3px 1px rgba(0, 0, 0, 0.15);\n",
              "      filter: drop-shadow(0px 1px 2px rgba(0, 0, 0, 0.3));\n",
              "      fill: #FFFFFF;\n",
              "    }\n",
              "  </style>\n",
              "\n",
              "    <script>\n",
              "      const buttonEl =\n",
              "        document.querySelector('#df-0131d14e-dbe0-44e8-9a7a-0a1b81aa98a1 button.colab-df-convert');\n",
              "      buttonEl.style.display =\n",
              "        google.colab.kernel.accessAllowed ? 'block' : 'none';\n",
              "\n",
              "      async function convertToInteractive(key) {\n",
              "        const element = document.querySelector('#df-0131d14e-dbe0-44e8-9a7a-0a1b81aa98a1');\n",
              "        const dataTable =\n",
              "          await google.colab.kernel.invokeFunction('convertToInteractive',\n",
              "                                                    [key], {});\n",
              "        if (!dataTable) return;\n",
              "\n",
              "        const docLinkHtml = 'Like what you see? Visit the ' +\n",
              "          '<a target=\"_blank\" href=https://colab.research.google.com/notebooks/data_table.ipynb>data table notebook</a>'\n",
              "          + ' to learn more about interactive tables.';\n",
              "        element.innerHTML = '';\n",
              "        dataTable['output_type'] = 'display_data';\n",
              "        await google.colab.output.renderOutput(dataTable, element);\n",
              "        const docLink = document.createElement('div');\n",
              "        docLink.innerHTML = docLinkHtml;\n",
              "        element.appendChild(docLink);\n",
              "      }\n",
              "    </script>\n",
              "  </div>\n",
              "\n",
              "\n",
              "<div id=\"df-a5d6d847-9c00-4f19-996d-0bef5fc24d69\">\n",
              "  <button class=\"colab-df-quickchart\" onclick=\"quickchart('df-a5d6d847-9c00-4f19-996d-0bef5fc24d69')\"\n",
              "            title=\"Suggest charts\"\n",
              "            style=\"display:none;\">\n",
              "\n",
              "<svg xmlns=\"http://www.w3.org/2000/svg\" height=\"24px\"viewBox=\"0 0 24 24\"\n",
              "     width=\"24px\">\n",
              "    <g>\n",
              "        <path d=\"M19 3H5c-1.1 0-2 .9-2 2v14c0 1.1.9 2 2 2h14c1.1 0 2-.9 2-2V5c0-1.1-.9-2-2-2zM9 17H7v-7h2v7zm4 0h-2V7h2v10zm4 0h-2v-4h2v4z\"/>\n",
              "    </g>\n",
              "</svg>\n",
              "  </button>\n",
              "\n",
              "<style>\n",
              "  .colab-df-quickchart {\n",
              "      --bg-color: #E8F0FE;\n",
              "      --fill-color: #1967D2;\n",
              "      --hover-bg-color: #E2EBFA;\n",
              "      --hover-fill-color: #174EA6;\n",
              "      --disabled-fill-color: #AAA;\n",
              "      --disabled-bg-color: #DDD;\n",
              "  }\n",
              "\n",
              "  [theme=dark] .colab-df-quickchart {\n",
              "      --bg-color: #3B4455;\n",
              "      --fill-color: #D2E3FC;\n",
              "      --hover-bg-color: #434B5C;\n",
              "      --hover-fill-color: #FFFFFF;\n",
              "      --disabled-bg-color: #3B4455;\n",
              "      --disabled-fill-color: #666;\n",
              "  }\n",
              "\n",
              "  .colab-df-quickchart {\n",
              "    background-color: var(--bg-color);\n",
              "    border: none;\n",
              "    border-radius: 50%;\n",
              "    cursor: pointer;\n",
              "    display: none;\n",
              "    fill: var(--fill-color);\n",
              "    height: 32px;\n",
              "    padding: 0;\n",
              "    width: 32px;\n",
              "  }\n",
              "\n",
              "  .colab-df-quickchart:hover {\n",
              "    background-color: var(--hover-bg-color);\n",
              "    box-shadow: 0 1px 2px rgba(60, 64, 67, 0.3), 0 1px 3px 1px rgba(60, 64, 67, 0.15);\n",
              "    fill: var(--button-hover-fill-color);\n",
              "  }\n",
              "\n",
              "  .colab-df-quickchart-complete:disabled,\n",
              "  .colab-df-quickchart-complete:disabled:hover {\n",
              "    background-color: var(--disabled-bg-color);\n",
              "    fill: var(--disabled-fill-color);\n",
              "    box-shadow: none;\n",
              "  }\n",
              "\n",
              "  .colab-df-spinner {\n",
              "    border: 2px solid var(--fill-color);\n",
              "    border-color: transparent;\n",
              "    border-bottom-color: var(--fill-color);\n",
              "    animation:\n",
              "      spin 1s steps(1) infinite;\n",
              "  }\n",
              "\n",
              "  @keyframes spin {\n",
              "    0% {\n",
              "      border-color: transparent;\n",
              "      border-bottom-color: var(--fill-color);\n",
              "      border-left-color: var(--fill-color);\n",
              "    }\n",
              "    20% {\n",
              "      border-color: transparent;\n",
              "      border-left-color: var(--fill-color);\n",
              "      border-top-color: var(--fill-color);\n",
              "    }\n",
              "    30% {\n",
              "      border-color: transparent;\n",
              "      border-left-color: var(--fill-color);\n",
              "      border-top-color: var(--fill-color);\n",
              "      border-right-color: var(--fill-color);\n",
              "    }\n",
              "    40% {\n",
              "      border-color: transparent;\n",
              "      border-right-color: var(--fill-color);\n",
              "      border-top-color: var(--fill-color);\n",
              "    }\n",
              "    60% {\n",
              "      border-color: transparent;\n",
              "      border-right-color: var(--fill-color);\n",
              "    }\n",
              "    80% {\n",
              "      border-color: transparent;\n",
              "      border-right-color: var(--fill-color);\n",
              "      border-bottom-color: var(--fill-color);\n",
              "    }\n",
              "    90% {\n",
              "      border-color: transparent;\n",
              "      border-bottom-color: var(--fill-color);\n",
              "    }\n",
              "  }\n",
              "</style>\n",
              "\n",
              "  <script>\n",
              "    async function quickchart(key) {\n",
              "      const quickchartButtonEl =\n",
              "        document.querySelector('#' + key + ' button');\n",
              "      quickchartButtonEl.disabled = true;  // To prevent multiple clicks.\n",
              "      quickchartButtonEl.classList.add('colab-df-spinner');\n",
              "      try {\n",
              "        const charts = await google.colab.kernel.invokeFunction(\n",
              "            'suggestCharts', [key], {});\n",
              "      } catch (error) {\n",
              "        console.error('Error during call to suggestCharts:', error);\n",
              "      }\n",
              "      quickchartButtonEl.classList.remove('colab-df-spinner');\n",
              "      quickchartButtonEl.classList.add('colab-df-quickchart-complete');\n",
              "    }\n",
              "    (() => {\n",
              "      let quickchartButtonEl =\n",
              "        document.querySelector('#df-a5d6d847-9c00-4f19-996d-0bef5fc24d69 button');\n",
              "      quickchartButtonEl.style.display =\n",
              "        google.colab.kernel.accessAllowed ? 'block' : 'none';\n",
              "    })();\n",
              "  </script>\n",
              "</div>\n",
              "    </div>\n",
              "  </div>\n"
            ]
          },
          "metadata": {},
          "execution_count": 3
        }
      ],
      "source": [
        "df_review = pd.read_csv(\"https://raw.githubusercontent.com/SK7here/Movie-Review-Sentiment-Analysis/master/IMDB-Dataset.csv\")\n",
        "df_review"
      ]
    },
    {
      "cell_type": "markdown",
      "id": "8552b50d",
      "metadata": {
        "papermill": {
          "duration": 0.029786,
          "end_time": "2022-03-15T05:15:17.879054",
          "exception": false,
          "start_time": "2022-03-15T05:15:17.849268",
          "status": "completed"
        },
        "tags": [],
        "id": "8552b50d"
      },
      "source": [
        "This dataset contains 50000 rows; however, to train our model faster in the following steps, we’re going to take a smaller sample of 10000 rows. This small sample will contain 9000 positive and 1000 negative reviews to make the data imbalanced (so I can teach you undersampling and oversampling techniques in the next step)"
      ]
    },
    {
      "cell_type": "code",
      "execution_count": 4,
      "id": "eb4920fc",
      "metadata": {
        "execution": {
          "iopub.execute_input": "2022-03-15T05:15:17.950103Z",
          "iopub.status.busy": "2022-03-15T05:15:17.949456Z",
          "iopub.status.idle": "2022-03-15T05:15:17.964839Z",
          "shell.execute_reply": "2022-03-15T05:15:17.964310Z",
          "shell.execute_reply.started": "2022-03-15T05:12:59.561143Z"
        },
        "papermill": {
          "duration": 0.055791,
          "end_time": "2022-03-15T05:15:17.964973",
          "exception": false,
          "start_time": "2022-03-15T05:15:17.909182",
          "status": "completed"
        },
        "tags": [],
        "id": "eb4920fc"
      },
      "outputs": [],
      "source": [
        "df_positive = df_review[df_review['sentiment']=='positive'][:9000]\n",
        "df_negative = df_review[df_review['sentiment']=='negative'][:1000]\n",
        "\n",
        "df_review_imb = pd.concat([df_positive,df_negative ])"
      ]
    },
    {
      "cell_type": "markdown",
      "id": "d13a5a30",
      "metadata": {
        "papermill": {
          "duration": 0.029572,
          "end_time": "2022-03-15T05:15:18.025347",
          "exception": false,
          "start_time": "2022-03-15T05:15:17.995775",
          "status": "completed"
        },
        "tags": [],
        "id": "d13a5a30"
      },
      "source": [
        "## Dealing with Imbalanced Classes\n",
        "\n",
        "In most cases, you’ll have a large amount of data for one class, and much fewer observations for other classes. This is known as imbalanced data because the number of observations per class is not equally distributed.\n",
        "\n",
        "Let’s take a look at how our df_review_imb dataset is distributed."
      ]
    },
    {
      "cell_type": "code",
      "execution_count": 5,
      "id": "ab26e2fc",
      "metadata": {
        "execution": {
          "iopub.execute_input": "2022-03-15T05:15:18.095023Z",
          "iopub.status.busy": "2022-03-15T05:15:18.088822Z",
          "iopub.status.idle": "2022-03-15T05:15:18.306080Z",
          "shell.execute_reply": "2022-03-15T05:15:18.306591Z",
          "shell.execute_reply.started": "2022-03-15T05:12:59.597251Z"
        },
        "papermill": {
          "duration": 0.250269,
          "end_time": "2022-03-15T05:15:18.306754",
          "exception": false,
          "start_time": "2022-03-15T05:15:18.056485",
          "status": "completed"
        },
        "tags": [],
        "colab": {
          "base_uri": "https://localhost:8080/",
          "height": 407
        },
        "id": "ab26e2fc",
        "outputId": "bf5e65ea-1ac9-4c62-e665-a6ff94a0b4e5"
      },
      "outputs": [
        {
          "output_type": "display_data",
          "data": {
            "text/plain": [
              "<Figure size 800x400 with 1 Axes>"
            ],
            "image/png": "[encoded data removed]"
          },
          "metadata": {}
        }
      ],
      "source": [
        "colors = sns.color_palette('deep')\n",
        "\n",
        "plt.figure(figsize=(8,4), tight_layout=True)\n",
        "plt.bar(x=['Positive', 'Negative'],\n",
        "        height=df_review_imb.value_counts(['sentiment']),\n",
        "        color=colors[:2])\n",
        "plt.title('Sentiment')\n",
        "plt.savefig('sentiment.png')\n",
        "plt.show()"
      ]
    },
    {
      "cell_type": "markdown",
      "id": "2495ecba",
      "metadata": {
        "papermill": {
          "duration": 0.030132,
          "end_time": "2022-03-15T05:15:18.367749",
          "exception": false,
          "start_time": "2022-03-15T05:15:18.337617",
          "status": "completed"
        },
        "tags": [],
        "id": "2495ecba"
      },
      "source": [
        "To resample our data we use the imblearn library. You can either undersample positive reviews or oversample negative reviews (you need to choose based on the data you’re working with). In this case, we’ll use the RandomUnderSampler"
      ]
    },
    {
      "cell_type": "code",
      "execution_count": 6,
      "id": "6189f3a8",
      "metadata": {
        "execution": {
          "iopub.execute_input": "2022-03-15T05:15:18.433563Z",
          "iopub.status.busy": "2022-03-15T05:15:18.432913Z",
          "iopub.status.idle": "2022-03-15T05:15:18.992477Z",
          "shell.execute_reply": "2022-03-15T05:15:18.991966Z",
          "shell.execute_reply.started": "2022-03-15T05:12:59.869383Z"
        },
        "papermill": {
          "duration": 0.594649,
          "end_time": "2022-03-15T05:15:18.992609",
          "exception": false,
          "start_time": "2022-03-15T05:15:18.397960",
          "status": "completed"
        },
        "tags": [],
        "colab": {
          "base_uri": "https://localhost:8080/",
          "height": 423
        },
        "id": "6189f3a8",
        "outputId": "c5f35c7c-89bf-4fd8-c28f-eab8f9044587"
      },
      "outputs": [
        {
          "output_type": "execute_result",
          "data": {
            "text/plain": [
              "                                                 review sentiment\n",
              "0     Basically there's a family where a little boy ...  negative\n",
              "1     This show was an amazing, fresh & innovative i...  negative\n",
              "2     Encouraged by the positive comments about this...  negative\n",
              "3     Phil the Alien is one of those quirky films wh...  negative\n",
              "4     I saw this movie when I was about 12 when it c...  negative\n",
              "...                                                 ...       ...\n",
              "1995  Knute Rockne led an extraordinary life and his...  positive\n",
              "1996  At the height of the 'Celebrity Big Brother' r...  positive\n",
              "1997  This is another of Robert Altman's underrated ...  positive\n",
              "1998  This movie won a special award at Cannes for i...  positive\n",
              "1999  You'd be forgiven to think a Finnish director ...  positive\n",
              "\n",
              "[2000 rows x 2 columns]"
            ],
            "text/html": [
              "\n",
              "  <div id=\"df-2ef14917-fb2e-498e-8818-fa5883c09599\" class=\"colab-df-container\">\n",
              "    <div>\n",
              "<style scoped>\n",
              "    .dataframe tbody tr th:only-of-type {\n",
              "        vertical-align: middle;\n",
              "    }\n",
              "\n",
              "    .dataframe tbody tr th {\n",
              "        vertical-align: top;\n",
              "    }\n",
              "\n",
              "    .dataframe thead th {\n",
              "        text-align: right;\n",
              "    }\n",
              "</style>\n",
              "<table border=\"1\" class=\"dataframe\">\n",
              "  <thead>\n",
              "    <tr style=\"text-align: right;\">\n",
              "      <th></th>\n",
              "      <th>review</th>\n",
              "      <th>sentiment</th>\n",
              "    </tr>\n",
              "  </thead>\n",
              "  <tbody>\n",
              "    <tr>\n",
              "      <th>0</th>\n",
              "      <td>Basically there's a family where a little boy ...</td>\n",
              "      <td>negative</td>\n",
              "    </tr>\n",
              "    <tr>\n",
              "      <th>1</th>\n",
              "      <td>This show was an amazing, fresh &amp; innovative i...</td>\n",
              "      <td>negative</td>\n",
              "    </tr>\n",
              "    <tr>\n",
              "      <th>2</th>\n",
              "      <td>Encouraged by the positive comments about this...</td>\n",
              "      <td>negative</td>\n",
              "    </tr>\n",
              "    <tr>\n",
              "      <th>3</th>\n",
              "      <td>Phil the Alien is one of those quirky films wh...</td>\n",
              "      <td>negative</td>\n",
              "    </tr>\n",
              "    <tr>\n",
              "      <th>4</th>\n",
              "      <td>I saw this movie when I was about 12 when it c...</td>\n",
              "      <td>negative</td>\n",
              "    </tr>\n",
              "    <tr>\n",
              "      <th>...</th>\n",
              "      <td>...</td>\n",
              "      <td>...</td>\n",
              "    </tr>\n",
              "    <tr>\n",
              "      <th>1995</th>\n",
              "      <td>Knute Rockne led an extraordinary life and his...</td>\n",
              "      <td>positive</td>\n",
              "    </tr>\n",
              "    <tr>\n",
              "      <th>1996</th>\n",
              "      <td>At the height of the 'Celebrity Big Brother' r...</td>\n",
              "      <td>positive</td>\n",
              "    </tr>\n",
              "    <tr>\n",
              "      <th>1997</th>\n",
              "      <td>This is another of Robert Altman's underrated ...</td>\n",
              "      <td>positive</td>\n",
              "    </tr>\n",
              "    <tr>\n",
              "      <th>1998</th>\n",
              "      <td>This movie won a special award at Cannes for i...</td>\n",
              "      <td>positive</td>\n",
              "    </tr>\n",
              "    <tr>\n",
              "      <th>1999</th>\n",
              "      <td>You'd be forgiven to think a Finnish director ...</td>\n",
              "      <td>positive</td>\n",
              "    </tr>\n",
              "  </tbody>\n",
              "</table>\n",
              "<p>2000 rows × 2 columns</p>\n",
              "</div>\n",
              "    <div class=\"colab-df-buttons\">\n",
              "\n",
              "  <div class=\"colab-df-container\">\n",
              "    <button class=\"colab-df-convert\" onclick=\"convertToInteractive('df-2ef14917-fb2e-498e-8818-fa5883c09599')\"\n",
              "            title=\"Convert this dataframe to an interactive table.\"\n",
              "            style=\"display:none;\">\n",
              "\n",
              "  <svg xmlns=\"http://www.w3.org/2000/svg\" height=\"24px\" viewBox=\"0 -960 960 960\">\n",
              "    <path d=\"M120-120v-720h720v720H120Zm60-500h600v-160H180v160Zm220 220h160v-160H400v160Zm0 220h160v-160H400v160ZM180-400h160v-160H180v160Zm440 0h160v-160H620v160ZM180-180h160v-160H180v160Zm440 0h160v-160H620v160Z\"/>\n",
              "  </svg>\n",
              "    </button>\n",
              "\n",
              "  <style>\n",
              "    .colab-df-container {\n",
              "      display:flex;\n",
              "      gap: 12px;\n",
              "    }\n",
              "\n",
              "    .colab-df-convert {\n",
              "      background-color: #E8F0FE;\n",
              "      border: none;\n",
              "      border-radius: 50%;\n",
              "      cursor: pointer;\n",
              "      display: none;\n",
              "      fill: #1967D2;\n",
              "      height: 32px;\n",
              "      padding: 0 0 0 0;\n",
              "      width: 32px;\n",
              "    }\n",
              "\n",
              "    .colab-df-convert:hover {\n",
              "      background-color: #E2EBFA;\n",
              "      box-shadow: 0px 1px 2px rgba(60, 64, 67, 0.3), 0px 1px 3px 1px rgba(60, 64, 67, 0.15);\n",
              "      fill: #174EA6;\n",
              "    }\n",
              "\n",
              "    .colab-df-buttons div {\n",
              "      margin-bottom: 4px;\n",
              "    }\n",
              "\n",
              "    [theme=dark] .colab-df-convert {\n",
              "      background-color: #3B4455;\n",
              "      fill: #D2E3FC;\n",
              "    }\n",
              "\n",
              "    [theme=dark] .colab-df-convert:hover {\n",
              "      background-color: #434B5C;\n",
              "      box-shadow: 0px 1px 3px 1px rgba(0, 0, 0, 0.15);\n",
              "      filter: drop-shadow(0px 1px 2px rgba(0, 0, 0, 0.3));\n",
              "      fill: #FFFFFF;\n",
              "    }\n",
              "  </style>\n",
              "\n",
              "    <script>\n",
              "      const buttonEl =\n",
              "        document.querySelector('#df-2ef14917-fb2e-498e-8818-fa5883c09599 button.colab-df-convert');\n",
              "      buttonEl.style.display =\n",
              "        google.colab.kernel.accessAllowed ? 'block' : 'none';\n",
              "\n",
              "      async function convertToInteractive(key) {\n",
              "        const element = document.querySelector('#df-2ef14917-fb2e-498e-8818-fa5883c09599');\n",
              "        const dataTable =\n",
              "          await google.colab.kernel.invokeFunction('convertToInteractive',\n",
              "                                                    [key], {});\n",
              "        if (!dataTable) return;\n",
              "\n",
              "        const docLinkHtml = 'Like what you see? Visit the ' +\n",
              "          '<a target=\"_blank\" href=https://colab.research.google.com/notebooks/data_table.ipynb>data table notebook</a>'\n",
              "          + ' to learn more about interactive tables.';\n",
              "        element.innerHTML = '';\n",
              "        dataTable['output_type'] = 'display_data';\n",
              "        await google.colab.output.renderOutput(dataTable, element);\n",
              "        const docLink = document.createElement('div');\n",
              "        docLink.innerHTML = docLinkHtml;\n",
              "        element.appendChild(docLink);\n",
              "      }\n",
              "    </script>\n",
              "  </div>\n",
              "\n",
              "\n",
              "<div id=\"df-64d74097-6af8-4903-942b-0c185a283970\">\n",
              "  <button class=\"colab-df-quickchart\" onclick=\"quickchart('df-64d74097-6af8-4903-942b-0c185a283970')\"\n",
              "            title=\"Suggest charts\"\n",
              "            style=\"display:none;\">\n",
              "\n",
              "<svg xmlns=\"http://www.w3.org/2000/svg\" height=\"24px\"viewBox=\"0 0 24 24\"\n",
              "     width=\"24px\">\n",
              "    <g>\n",
              "        <path d=\"M19 3H5c-1.1 0-2 .9-2 2v14c0 1.1.9 2 2 2h14c1.1 0 2-.9 2-2V5c0-1.1-.9-2-2-2zM9 17H7v-7h2v7zm4 0h-2V7h2v10zm4 0h-2v-4h2v4z\"/>\n",
              "    </g>\n",
              "</svg>\n",
              "  </button>\n",
              "\n",
              "<style>\n",
              "  .colab-df-quickchart {\n",
              "      --bg-color: #E8F0FE;\n",
              "      --fill-color: #1967D2;\n",
              "      --hover-bg-color: #E2EBFA;\n",
              "      --hover-fill-color: #174EA6;\n",
              "      --disabled-fill-color: #AAA;\n",
              "      --disabled-bg-color: #DDD;\n",
              "  }\n",
              "\n",
              "  [theme=dark] .colab-df-quickchart {\n",
              "      --bg-color: #3B4455;\n",
              "      --fill-color: #D2E3FC;\n",
              "      --hover-bg-color: #434B5C;\n",
              "      --hover-fill-color: #FFFFFF;\n",
              "      --disabled-bg-color: #3B4455;\n",
              "      --disabled-fill-color: #666;\n",
              "  }\n",
              "\n",
              "  .colab-df-quickchart {\n",
              "    background-color: var(--bg-color);\n",
              "    border: none;\n",
              "    border-radius: 50%;\n",
              "    cursor: pointer;\n",
              "    display: none;\n",
              "    fill: var(--fill-color);\n",
              "    height: 32px;\n",
              "    padding: 0;\n",
              "    width: 32px;\n",
              "  }\n",
              "\n",
              "  .colab-df-quickchart:hover {\n",
              "    background-color: var(--hover-bg-color);\n",
              "    box-shadow: 0 1px 2px rgba(60, 64, 67, 0.3), 0 1px 3px 1px rgba(60, 64, 67, 0.15);\n",
              "    fill: var(--button-hover-fill-color);\n",
              "  }\n",
              "\n",
              "  .colab-df-quickchart-complete:disabled,\n",
              "  .colab-df-quickchart-complete:disabled:hover {\n",
              "    background-color: var(--disabled-bg-color);\n",
              "    fill: var(--disabled-fill-color);\n",
              "    box-shadow: none;\n",
              "  }\n",
              "\n",
              "  .colab-df-spinner {\n",
              "    border: 2px solid var(--fill-color);\n",
              "    border-color: transparent;\n",
              "    border-bottom-color: var(--fill-color);\n",
              "    animation:\n",
              "      spin 1s steps(1) infinite;\n",
              "  }\n",
              "\n",
              "  @keyframes spin {\n",
              "    0% {\n",
              "      border-color: transparent;\n",
              "      border-bottom-color: var(--fill-color);\n",
              "      border-left-color: var(--fill-color);\n",
              "    }\n",
              "    20% {\n",
              "      border-color: transparent;\n",
              "      border-left-color: var(--fill-color);\n",
              "      border-top-color: var(--fill-color);\n",
              "    }\n",
              "    30% {\n",
              "      border-color: transparent;\n",
              "      border-left-color: var(--fill-color);\n",
              "      border-top-color: var(--fill-color);\n",
              "      border-right-color: var(--fill-color);\n",
              "    }\n",
              "    40% {\n",
              "      border-color: transparent;\n",
              "      border-right-color: var(--fill-color);\n",
              "      border-top-color: var(--fill-color);\n",
              "    }\n",
              "    60% {\n",
              "      border-color: transparent;\n",
              "      border-right-color: var(--fill-color);\n",
              "    }\n",
              "    80% {\n",
              "      border-color: transparent;\n",
              "      border-right-color: var(--fill-color);\n",
              "      border-bottom-color: var(--fill-color);\n",
              "    }\n",
              "    90% {\n",
              "      border-color: transparent;\n",
              "      border-bottom-color: var(--fill-color);\n",
              "    }\n",
              "  }\n",
              "</style>\n",
              "\n",
              "  <script>\n",
              "    async function quickchart(key) {\n",
              "      const quickchartButtonEl =\n",
              "        document.querySelector('#' + key + ' button');\n",
              "      quickchartButtonEl.disabled = true;  // To prevent multiple clicks.\n",
              "      quickchartButtonEl.classList.add('colab-df-spinner');\n",
              "      try {\n",
              "        const charts = await google.colab.kernel.invokeFunction(\n",
              "            'suggestCharts', [key], {});\n",
              "      } catch (error) {\n",
              "        console.error('Error during call to suggestCharts:', error);\n",
              "      }\n",
              "      quickchartButtonEl.classList.remove('colab-df-spinner');\n",
              "      quickchartButtonEl.classList.add('colab-df-quickchart-complete');\n",
              "    }\n",
              "    (() => {\n",
              "      let quickchartButtonEl =\n",
              "        document.querySelector('#df-64d74097-6af8-4903-942b-0c185a283970 button');\n",
              "      quickchartButtonEl.style.display =\n",
              "        google.colab.kernel.accessAllowed ? 'block' : 'none';\n",
              "    })();\n",
              "  </script>\n",
              "</div>\n",
              "    </div>\n",
              "  </div>\n"
            ]
          },
          "metadata": {},
          "execution_count": 6
        }
      ],
      "source": [
        "from imblearn.under_sampling import RandomUnderSampler\n",
        "rus = RandomUnderSampler(random_state= 0)\n",
        "df_review_bal,df_review_bal['sentiment']=rus.fit_resample(df_review_imb[['review']],df_review_imb['sentiment'])\n",
        "\n",
        "\n",
        "df_review_bal"
      ]
    },
    {
      "cell_type": "markdown",
      "id": "b43f23ee",
      "metadata": {
        "papermill": {
          "duration": 0.030799,
          "end_time": "2022-03-15T05:15:19.054687",
          "exception": false,
          "start_time": "2022-03-15T05:15:19.023888",
          "status": "completed"
        },
        "tags": [],
        "id": "b43f23ee"
      },
      "source": [
        "We can compare the imbalanced and balanced dataset with the following code."
      ]
    },
    {
      "cell_type": "code",
      "execution_count": 7,
      "id": "ba52f913",
      "metadata": {
        "execution": {
          "iopub.execute_input": "2022-03-15T05:15:19.122162Z",
          "iopub.status.busy": "2022-03-15T05:15:19.121592Z",
          "iopub.status.idle": "2022-03-15T05:15:19.128592Z",
          "shell.execute_reply": "2022-03-15T05:15:19.129169Z",
          "shell.execute_reply.started": "2022-03-15T05:13:00.437822Z"
        },
        "papermill": {
          "duration": 0.043514,
          "end_time": "2022-03-15T05:15:19.129336",
          "exception": false,
          "start_time": "2022-03-15T05:15:19.085822",
          "status": "completed"
        },
        "tags": [],
        "colab": {
          "base_uri": "https://localhost:8080/"
        },
        "id": "ba52f913",
        "outputId": "f4c39cba-fad4-4b4d-de60-ee7ff6e547ee"
      },
      "outputs": [
        {
          "output_type": "stream",
          "name": "stdout",
          "text": [
            "sentiment\n",
            "positive    9000\n",
            "negative    1000\n",
            "dtype: int64\n",
            "sentiment\n",
            "negative    1000\n",
            "positive    1000\n",
            "dtype: int64\n"
          ]
        }
      ],
      "source": [
        "print(df_review_imb.value_counts('sentiment'))\n",
        "print(df_review_bal.value_counts('sentiment'))"
      ]
    },
    {
      "cell_type": "markdown",
      "id": "88184a48",
      "metadata": {
        "papermill": {
          "duration": 0.031289,
          "end_time": "2022-03-15T05:15:19.191739",
          "exception": false,
          "start_time": "2022-03-15T05:15:19.160450",
          "status": "completed"
        },
        "tags": [],
        "id": "88184a48"
      },
      "source": [
        "\n",
        "## Splitting data into train and test set\n"
      ]
    },
    {
      "cell_type": "code",
      "execution_count": 90,
      "id": "e6c0f472",
      "metadata": {
        "execution": {
          "iopub.execute_input": "2022-03-15T05:15:19.259250Z",
          "iopub.status.busy": "2022-03-15T05:15:19.258255Z",
          "iopub.status.idle": "2022-03-15T05:15:19.263768Z",
          "shell.execute_reply": "2022-03-15T05:15:19.264239Z",
          "shell.execute_reply.started": "2022-03-15T05:13:00.448344Z"
        },
        "papermill": {
          "duration": 0.040695,
          "end_time": "2022-03-15T05:15:19.264415",
          "exception": false,
          "start_time": "2022-03-15T05:15:19.223720",
          "status": "completed"
        },
        "tags": [],
        "id": "e6c0f472"
      },
      "outputs": [],
      "source": [
        "from sklearn.model_selection import train_test_split\n",
        "\n",
        "train,test = train_test_split(df_review_bal,test_size =0.33,random_state=42)"
      ]
    },
    {
      "cell_type": "code",
      "execution_count": 91,
      "id": "44ca4804",
      "metadata": {
        "execution": {
          "iopub.execute_input": "2022-03-15T05:15:19.330810Z",
          "iopub.status.busy": "2022-03-15T05:15:19.329927Z",
          "iopub.status.idle": "2022-03-15T05:15:19.334185Z",
          "shell.execute_reply": "2022-03-15T05:15:19.334621Z",
          "shell.execute_reply.started": "2022-03-15T05:13:00.457989Z"
        },
        "papermill": {
          "duration": 0.039134,
          "end_time": "2022-03-15T05:15:19.334778",
          "exception": false,
          "start_time": "2022-03-15T05:15:19.295644",
          "status": "completed"
        },
        "tags": [],
        "id": "44ca4804"
      },
      "outputs": [],
      "source": [
        "train_x, train_y = train['review'], train['sentiment']\n",
        "test_x, test_y = test['review'], test['sentiment']"
      ]
    },
    {
      "cell_type": "code",
      "execution_count": 92,
      "id": "3c6a4c66",
      "metadata": {
        "execution": {
          "iopub.execute_input": "2022-03-15T05:15:19.400656Z",
          "iopub.status.busy": "2022-03-15T05:15:19.399742Z",
          "iopub.status.idle": "2022-03-15T05:15:19.408086Z",
          "shell.execute_reply": "2022-03-15T05:15:19.408526Z",
          "shell.execute_reply.started": "2022-03-15T05:13:00.469297Z"
        },
        "papermill": {
          "duration": 0.043005,
          "end_time": "2022-03-15T05:15:19.408686",
          "exception": false,
          "start_time": "2022-03-15T05:15:19.365681",
          "status": "completed"
        },
        "tags": [],
        "colab": {
          "base_uri": "https://localhost:8080/"
        },
        "id": "3c6a4c66",
        "outputId": "f6f2a431-e54c-4a23-9884-bb35857b2a89"
      },
      "outputs": [
        {
          "output_type": "execute_result",
          "data": {
            "text/plain": [
              "negative    675\n",
              "positive    665\n",
              "Name: sentiment, dtype: int64"
            ]
          },
          "metadata": {},
          "execution_count": 92
        }
      ],
      "source": [
        "train_y.value_counts()"
      ]
    },
    {
      "cell_type": "markdown",
      "id": "17ffb83c",
      "metadata": {
        "papermill": {
          "duration": 0.031909,
          "end_time": "2022-03-15T05:15:19.471693",
          "exception": false,
          "start_time": "2022-03-15T05:15:19.439784",
          "status": "completed"
        },
        "tags": [],
        "id": "17ffb83c"
      },
      "source": [
        "\n",
        "# 3.Text Representation (Bag of words)\n"
      ]
    },
    {
      "cell_type": "markdown",
      "id": "b549637e",
      "metadata": {
        "papermill": {
          "duration": 0.031084,
          "end_time": "2022-03-15T05:15:19.534017",
          "exception": false,
          "start_time": "2022-03-15T05:15:19.502933",
          "status": "completed"
        },
        "tags": [],
        "id": "b549637e"
      },
      "source": [
        "Classifiers and learning algorithms expect numerical feature vectors rather than raw text documents. This is why we need to turn our movie review text into numerical vectors.\n",
        "\n",
        "we’ll use bag of words (BOW) since we care about the frequency of the words in text reviews; however, the order of words is irrelevant. Two common ways to represent bag of words are CountVectorizer and Term Frequency, Inverse Document Frequency (TF-IDF)"
      ]
    },
    {
      "cell_type": "markdown",
      "id": "34bc488b",
      "metadata": {
        "execution": {
          "iopub.execute_input": "2022-03-14T02:31:48.605113Z",
          "iopub.status.busy": "2022-03-14T02:31:48.604278Z",
          "iopub.status.idle": "2022-03-14T02:31:48.612924Z",
          "shell.execute_reply": "2022-03-14T02:31:48.611661Z",
          "shell.execute_reply.started": "2022-03-14T02:31:48.605055Z"
        },
        "papermill": {
          "duration": 0.030941,
          "end_time": "2022-03-15T05:15:19.597449",
          "exception": false,
          "start_time": "2022-03-15T05:15:19.566508",
          "status": "completed"
        },
        "tags": [],
        "id": "34bc488b"
      },
      "source": [
        "we want to identify unique/representative words for positive reviews and negative reviews, so we’ll choose the TF-IDF. To turn text data into numerical vectors with TF-IDF"
      ]
    },
    {
      "cell_type": "markdown",
      "source": [
        "##TF-IDF"
      ],
      "metadata": {
        "id": "-sbS9gZdCbns"
      },
      "id": "-sbS9gZdCbns"
    },
    {
      "cell_type": "code",
      "execution_count": 11,
      "id": "a6b4b597",
      "metadata": {
        "execution": {
          "iopub.execute_input": "2022-03-15T05:15:19.663843Z",
          "iopub.status.busy": "2022-03-15T05:15:19.662933Z",
          "iopub.status.idle": "2022-03-15T05:15:20.019802Z",
          "shell.execute_reply": "2022-03-15T05:15:20.020330Z",
          "shell.execute_reply.started": "2022-03-15T05:13:00.486464Z"
        },
        "papermill": {
          "duration": 0.391793,
          "end_time": "2022-03-15T05:15:20.020575",
          "exception": false,
          "start_time": "2022-03-15T05:15:19.628782",
          "status": "completed"
        },
        "tags": [],
        "id": "a6b4b597"
      },
      "outputs": [],
      "source": [
        "from sklearn.feature_extraction.text import TfidfVectorizer\n",
        "\n",
        "tfidf = TfidfVectorizer(stop_words='english')\n",
        "train_x_vector = tfidf.fit_transform(train_x)\n",
        "# also fit the test_x_vector\n",
        "test_x_vector = tfidf.transform(test_x)\n"
      ]
    },
    {
      "cell_type": "markdown",
      "id": "f2c8221d",
      "metadata": {
        "papermill": {
          "duration": 0.033204,
          "end_time": "2022-03-15T05:15:20.085433",
          "exception": false,
          "start_time": "2022-03-15T05:15:20.052229",
          "status": "completed"
        },
        "tags": [],
        "id": "f2c8221d"
      },
      "source": [
        "Finally, let's also transform the test_x_vector, so we can test the accuracy of the model later"
      ]
    },
    {
      "cell_type": "code",
      "execution_count": 13,
      "id": "ab8fb7b2",
      "metadata": {
        "execution": {
          "iopub.execute_input": "2022-03-15T05:15:20.155177Z",
          "iopub.status.busy": "2022-03-15T05:15:20.154316Z",
          "iopub.status.idle": "2022-03-15T05:15:20.808982Z",
          "shell.execute_reply": "2022-03-15T05:15:20.809433Z",
          "shell.execute_reply.started": "2022-03-15T05:13:01.009681Z"
        },
        "papermill": {
          "duration": 0.691442,
          "end_time": "2022-03-15T05:15:20.809614",
          "exception": false,
          "start_time": "2022-03-15T05:15:20.118172",
          "status": "completed"
        },
        "tags": [],
        "id": "ab8fb7b2"
      },
      "outputs": [],
      "source": [
        "import pandas as pd\n",
        "from sklearn.feature_extraction.text import TfidfVectorizer\n",
        "\n",
        "# Supposons que train_x_vector et train_x soient déjà définis\n",
        "# Et tfidf soit votre TfidfVectorizer\n",
        "\n",
        "feature_names = tfidf.get_feature_names_out()\n",
        "df = pd.DataFrame.sparse.from_spmatrix(train_x_vector,\n",
        "                                       index=train_x.index,\n",
        "                                       columns=feature_names)\n"
      ]
    },
    {
      "cell_type": "markdown",
      "source": [
        "## BERT"
      ],
      "metadata": {
        "id": "5ftJAi1fqq7w"
      },
      "id": "5ftJAi1fqq7w"
    },
    {
      "cell_type": "markdown",
      "source": [
        "You can use the Hugging Face Transformers library to load a pre-trained BERT model and tokenize your text dat"
      ],
      "metadata": {
        "id": "x54vI-zPoWVL"
      },
      "id": "x54vI-zPoWVL"
    },
    {
      "cell_type": "code",
      "source": [
        "device = torch.device(\"cuda\" if torch.cuda.is_available() else \"cpu\")\n",
        "print(device)"
      ],
      "metadata": {
        "colab": {
          "base_uri": "https://localhost:8080/"
        },
        "id": "8sUPSfap9v7c",
        "outputId": "11c0b50a-ac53-4c77-f2e3-04599be0c311"
      },
      "id": "8sUPSfap9v7c",
      "execution_count": 94,
      "outputs": [
        {
          "output_type": "stream",
          "name": "stdout",
          "text": [
            "cpu\n"
          ]
        }
      ]
    },
    {
      "cell_type": "code",
      "source": [
        "from sklearn.model_selection import train_test_split\n",
        "from sklearn.svm import SVC\n",
        "from transformers import BertTokenizer, BertModel\n",
        "import torch\n",
        "from tqdm import tqdm\n",
        "\n",
        "# Move the model to GPU if available\n",
        "device = torch.device(\"cuda\" if torch.cuda.is_available() else \"cpu\")\n",
        "\n",
        "# Load BERT tokenizer and model, move to GPU\n",
        "tokenizer = BertTokenizer.from_pretrained(\"bert-base-uncased\")\n",
        "bert_model = BertModel.from_pretrained(\"bert-base-uncased\").to(device)\n",
        "\n",
        "# Assuming df_review_bal contains your data\n",
        "train, test = train_test_split(df_review_bal, test_size=0.33, random_state=42)\n",
        "\n",
        "train_x, train_y = train['review'], train['sentiment']\n",
        "test_x, test_y = test['review'], test['sentiment']\n",
        "\n",
        "# Tokenize and encode the text data, move to GPU\n",
        "max_length = 128  # Define your desired max length\n",
        "X_train_tokens = tokenizer(list(train_x), truncation=True, padding=True, max_length=max_length, return_tensors=\"pt\", add_special_tokens=True).to(device)\n",
        "X_test_tokens = tokenizer(list(test_x), truncation=True, padding=True, max_length=max_length, return_tensors=\"pt\", add_special_tokens=True).to(device)\n",
        "\n",
        "# Calculate BERT embeddings for the text data\n",
        "def generate_embeddings(tokens):\n",
        "    embeddings = []\n",
        "    for i in tqdm(range(len(tokens['input_ids']))):\n",
        "        with torch.no_grad():\n",
        "            output = bert_model(input_ids=tokens['input_ids'][i].unsqueeze(0), attention_mask=tokens['attention_mask'][i].unsqueeze(0))\n",
        "        embeddings.append(output[0].squeeze().mean(dim=0).cpu().numpy())\n",
        "    return embeddings\n",
        "\n",
        "train_x_vector = generate_embeddings(X_train_tokens)\n",
        "test_x_vector = generate_embeddings(X_test_tokens)\n"
      ],
      "metadata": {
        "colab": {
          "base_uri": "https://localhost:8080/"
        },
        "id": "TRzDRJtwqsJ3",
        "outputId": "cce69a99-559e-4e54-f9fd-6f619eee4670"
      },
      "id": "TRzDRJtwqsJ3",
      "execution_count": 95,
      "outputs": [
        {
          "output_type": "stream",
          "name": "stderr",
          "text": [
            "/usr/local/lib/python3.10/dist-packages/huggingface_hub/utils/_token.py:72: UserWarning: \n",
            "The secret `HF_TOKEN` does not exist in your Colab secrets.\n",
            "To authenticate with the Hugging Face Hub, create a token in your settings tab (https://huggingface.co/settings/tokens), set it as secret in your Google Colab and restart your session.\n",
            "You will be able to reuse this secret in all of your notebooks.\n",
            "Please note that authentication is recommended but still optional to access public models or datasets.\n",
            "  warnings.warn(\n",
            "100%|██████████| 1340/1340 [10:51<00:00,  2.06it/s]\n",
            "100%|██████████| 660/660 [05:13<00:00,  2.10it/s]\n"
          ]
        }
      ]
    },
    {
      "cell_type": "markdown",
      "id": "11352f52",
      "metadata": {
        "papermill": {
          "duration": 0.032306,
          "end_time": "2022-03-15T05:15:20.874383",
          "exception": false,
          "start_time": "2022-03-15T05:15:20.842077",
          "status": "completed"
        },
        "tags": [],
        "id": "11352f52"
      },
      "source": [
        "# 4.Model Selection\n",
        "\n",
        "In our example, our input (review) and output (sentiment) are clearly identified, so we can say we have labeled input and output data; therefore, we’re dealing with supervised learning.\n",
        "\n",
        "We will benchmark the four classification models.\n"
      ]
    },
    {
      "cell_type": "markdown",
      "id": "438e32b4",
      "metadata": {
        "papermill": {
          "duration": 0.032352,
          "end_time": "2022-03-15T05:15:20.939562",
          "exception": false,
          "start_time": "2022-03-15T05:15:20.907210",
          "status": "completed"
        },
        "tags": [],
        "id": "438e32b4"
      },
      "source": [
        "\n",
        "##  Support Vector Machine(SVM)\n"
      ]
    },
    {
      "cell_type": "code",
      "execution_count": 96,
      "id": "03f3a011",
      "metadata": {
        "execution": {
          "iopub.execute_input": "2022-03-15T05:15:21.009899Z",
          "iopub.status.busy": "2022-03-15T05:15:21.009242Z",
          "iopub.status.idle": "2022-03-15T05:15:22.726201Z",
          "shell.execute_reply": "2022-03-15T05:15:22.725703Z",
          "shell.execute_reply.started": "2022-03-15T05:13:01.900611Z"
        },
        "papermill": {
          "duration": 1.754244,
          "end_time": "2022-03-15T05:15:22.726342",
          "exception": false,
          "start_time": "2022-03-15T05:15:20.972098",
          "status": "completed"
        },
        "tags": [],
        "colab": {
          "base_uri": "https://localhost:8080/",
          "height": 74
        },
        "id": "03f3a011",
        "outputId": "5e6fbe3a-7408-4c10-df36-b6beedb88599"
      },
      "outputs": [
        {
          "output_type": "execute_result",
          "data": {
            "text/plain": [
              "SVC(kernel='linear')"
            ],
            "text/html": [
              "<style>#sk-container-id-15 {color: black;background-color: white;}#sk-container-id-15 pre{padding: 0;}#sk-container-id-15 div.sk-toggleable {background-color: white;}#sk-container-id-15 label.sk-toggleable__label {cursor: pointer;display: block;width: 100%;margin-bottom: 0;padding: 0.3em;box-sizing: border-box;text-align: center;}#sk-container-id-15 label.sk-toggleable__label-arrow:before {content: \"▸\";float: left;margin-right: 0.25em;color: #696969;}#sk-container-id-15 label.sk-toggleable__label-arrow:hover:before {color: black;}#sk-container-id-15 div.sk-estimator:hover label.sk-toggleable__label-arrow:before {color: black;}#sk-container-id-15 div.sk-toggleable__content {max-height: 0;max-width: 0;overflow: hidden;text-align: left;background-color: #f0f8ff;}#sk-container-id-15 div.sk-toggleable__content pre {margin: 0.2em;color: black;border-radius: 0.25em;background-color: #f0f8ff;}#sk-container-id-15 input.sk-toggleable__control:checked~div.sk-toggleable__content {max-height: 200px;max-width: 100%;overflow: auto;}#sk-container-id-15 input.sk-toggleable__control:checked~label.sk-toggleable__label-arrow:before {content: \"▾\";}#sk-container-id-15 div.sk-estimator input.sk-toggleable__control:checked~label.sk-toggleable__label {background-color: #d4ebff;}#sk-container-id-15 div.sk-label input.sk-toggleable__control:checked~label.sk-toggleable__label {background-color: #d4ebff;}#sk-container-id-15 input.sk-hidden--visually {border: 0;clip: rect(1px 1px 1px 1px);clip: rect(1px, 1px, 1px, 1px);height: 1px;margin: -1px;overflow: hidden;padding: 0;position: absolute;width: 1px;}#sk-container-id-15 div.sk-estimator {font-family: monospace;background-color: #f0f8ff;border: 1px dotted black;border-radius: 0.25em;box-sizing: border-box;margin-bottom: 0.5em;}#sk-container-id-15 div.sk-estimator:hover {background-color: #d4ebff;}#sk-container-id-15 div.sk-parallel-item::after {content: \"\";width: 100%;border-bottom: 1px solid gray;flex-grow: 1;}#sk-container-id-15 div.sk-label:hover label.sk-toggleable__label {background-color: #d4ebff;}#sk-container-id-15 div.sk-serial::before {content: \"\";position: absolute;border-left: 1px solid gray;box-sizing: border-box;top: 0;bottom: 0;left: 50%;z-index: 0;}#sk-container-id-15 div.sk-serial {display: flex;flex-direction: column;align-items: center;background-color: white;padding-right: 0.2em;padding-left: 0.2em;position: relative;}#sk-container-id-15 div.sk-item {position: relative;z-index: 1;}#sk-container-id-15 div.sk-parallel {display: flex;align-items: stretch;justify-content: center;background-color: white;position: relative;}#sk-container-id-15 div.sk-item::before, #sk-container-id-15 div.sk-parallel-item::before {content: \"\";position: absolute;border-left: 1px solid gray;box-sizing: border-box;top: 0;bottom: 0;left: 50%;z-index: -1;}#sk-container-id-15 div.sk-parallel-item {display: flex;flex-direction: column;z-index: 1;position: relative;background-color: white;}#sk-container-id-15 div.sk-parallel-item:first-child::after {align-self: flex-end;width: 50%;}#sk-container-id-15 div.sk-parallel-item:last-child::after {align-self: flex-start;width: 50%;}#sk-container-id-15 div.sk-parallel-item:only-child::after {width: 0;}#sk-container-id-15 div.sk-dashed-wrapped {border: 1px dashed gray;margin: 0 0.4em 0.5em 0.4em;box-sizing: border-box;padding-bottom: 0.4em;background-color: white;}#sk-container-id-15 div.sk-label label {font-family: monospace;font-weight: bold;display: inline-block;line-height: 1.2em;}#sk-container-id-15 div.sk-label-container {text-align: center;}#sk-container-id-15 div.sk-container {/* jupyter's `normalize.less` sets `[hidden] { display: none; }` but bootstrap.min.css set `[hidden] { display: none !important; }` so we also need the `!important` here to be able to override the default hidden behavior on the sphinx rendered scikit-learn.org. See: https://github.com/scikit-learn/scikit-learn/issues/21755 */display: inline-block !important;position: relative;}#sk-container-id-15 div.sk-text-repr-fallback {display: none;}</style><div id=\"sk-container-id-15\" class=\"sk-top-container\"><div class=\"sk-text-repr-fallback\"><pre>SVC(kernel=&#x27;linear&#x27;)</pre><b>In a Jupyter environment, please rerun this cell to show the HTML representation or trust the notebook. <br />On GitHub, the HTML representation is unable to render, please try loading this page with nbviewer.org.</b></div><div class=\"sk-container\" hidden><div class=\"sk-item\"><div class=\"sk-estimator sk-toggleable\"><input class=\"sk-toggleable__control sk-hidden--visually\" id=\"sk-estimator-id-17\" type=\"checkbox\" checked><label for=\"sk-estimator-id-17\" class=\"sk-toggleable__label sk-toggleable__label-arrow\">SVC</label><div class=\"sk-toggleable__content\"><pre>SVC(kernel=&#x27;linear&#x27;)</pre></div></div></div></div></div>"
            ]
          },
          "metadata": {},
          "execution_count": 96
        }
      ],
      "source": [
        "from sklearn.svm import SVC\n",
        "svc = SVC(kernel='linear')\n",
        "svc.fit(train_x_vector, train_y)"
      ]
    },
    {
      "cell_type": "markdown",
      "id": "ebcf93fc",
      "metadata": {
        "papermill": {
          "duration": 0.032846,
          "end_time": "2022-03-15T05:15:22.874553",
          "exception": false,
          "start_time": "2022-03-15T05:15:22.841707",
          "status": "completed"
        },
        "tags": [],
        "id": "ebcf93fc"
      },
      "source": [
        "\n",
        "## Decision Tree\n"
      ]
    },
    {
      "cell_type": "code",
      "execution_count": 98,
      "id": "34212a78",
      "metadata": {
        "execution": {
          "iopub.execute_input": "2022-03-15T05:15:22.946077Z",
          "iopub.status.busy": "2022-03-15T05:15:22.945456Z",
          "iopub.status.idle": "2022-03-15T05:15:23.349345Z",
          "shell.execute_reply": "2022-03-15T05:15:23.348722Z",
          "shell.execute_reply.started": "2022-03-15T05:13:03.635948Z"
        },
        "papermill": {
          "duration": 0.441794,
          "end_time": "2022-03-15T05:15:23.349529",
          "exception": false,
          "start_time": "2022-03-15T05:15:22.907735",
          "status": "completed"
        },
        "tags": [],
        "colab": {
          "base_uri": "https://localhost:8080/"
        },
        "id": "34212a78",
        "outputId": "9678ab64-ce90-4a70-e6a6-7056d80e0d26"
      },
      "outputs": [
        {
          "output_type": "stream",
          "name": "stdout",
          "text": [
            "Fitting 5 folds for each of 72 candidates, totalling 360 fits\n"
          ]
        }
      ],
      "source": [
        "from sklearn.tree import DecisionTreeClassifier\n",
        "from sklearn.model_selection import GridSearchCV\n",
        "\n",
        "# Create an instance of the DecisionTreeClassifier\n",
        "dec_tree = DecisionTreeClassifier()\n",
        "\n",
        "# Define the hyperparameters to tune\n",
        "param_grid = {\n",
        "    'criterion': ['gini', 'entropy'],\n",
        "    'max_depth': [None, 10, 20, 30],\n",
        "    'min_samples_split': [2, 5, 10],\n",
        "    'min_samples_leaf': [1, 2, 4]\n",
        "}\n",
        "\n",
        "# Create GridSearchCV with the decision tree model and parameter grid\n",
        "grid_search = GridSearchCV(dec_tree, param_grid, cv=5, scoring='accuracy', verbose=1)\n",
        "\n",
        "# Train the GridSearchCV (which in turn trains the decision tree model with different hyperparameters)\n",
        "grid_search.fit(train_x_vector, train_y)\n",
        "\n",
        "# Get the best decision tree model from the GridSearchCV\n",
        "best_dec_tree_model = grid_search.best_estimator_\n",
        "\n",
        "# You can now use the best_dec_tree_model for predictions or other tasks\n"
      ]
    },
    {
      "cell_type": "markdown",
      "source": [
        "## Random Tree"
      ],
      "metadata": {
        "id": "gn2iMSeVkGoa"
      },
      "id": "gn2iMSeVkGoa"
    },
    {
      "cell_type": "code",
      "source": [
        "from sklearn.ensemble import RandomForestClassifier\n",
        "from sklearn.model_selection import GridSearchCV\n",
        "\n",
        "# Create an instance of the RandomForestClassifier\n",
        "rand_forest = RandomForestClassifier()\n",
        "\n",
        "# Define the hyperparameters to tune\n",
        "param_grid = {\n",
        "    'n_estimators': [50, 100, 200],\n",
        "    'max_depth': [None, 10, 20, 30],\n",
        "    'min_samples_split': [2, 5, 10],\n",
        "    'min_samples_leaf': [1, 2, 4],\n",
        "    'bootstrap': [True, False]\n",
        "}\n",
        "\n",
        "# Create GridSearchCV with the random forest model and parameter grid\n",
        "grid_search = GridSearchCV(rand_forest, param_grid, cv=5, scoring='accuracy', verbose=1)\n",
        "\n",
        "# Train the GridSearchCV (which in turn trains the random forest model with different hyperparameters)\n",
        "grid_search.fit(train_x_vector, train_y)\n",
        "\n",
        "# Get the best random forest model from the GridSearchCV\n",
        "best_rand_forest_model = grid_search.best_estimator_\n",
        "\n",
        "# You can now use the best_rand_forest_model for predictions or other tasks\n"
      ],
      "metadata": {
        "colab": {
          "base_uri": "https://localhost:8080/"
        },
        "id": "rIpiDzr4kGAG",
        "outputId": "47330ef5-0e94-47dc-967b-aed533332116"
      },
      "id": "rIpiDzr4kGAG",
      "execution_count": 101,
      "outputs": [
        {
          "output_type": "stream",
          "name": "stdout",
          "text": [
            "Fitting 5 folds for each of 216 candidates, totalling 1080 fits\n"
          ]
        }
      ]
    },
    {
      "cell_type": "markdown",
      "source": [
        "##KNN"
      ],
      "metadata": {
        "id": "zZ-8o9Y7mOP4"
      },
      "id": "zZ-8o9Y7mOP4"
    },
    {
      "cell_type": "code",
      "source": [
        "from sklearn.neighbors import KNeighborsClassifier\n",
        "from sklearn.model_selection import GridSearchCV\n",
        "\n",
        "# Create an instance of the KNeighborsClassifier\n",
        "knn_model = KNeighborsClassifier()\n",
        "\n",
        "# Define the range of neighbors to test\n",
        "param_grid = {'n_neighbors': [3, 5, 7, 9, 11]}  # Adjust the range as needed\n",
        "\n",
        "# Create GridSearchCV with the KNN model and parameter grid\n",
        "grid_search = GridSearchCV(knn_model, param_grid, cv=5, scoring='accuracy', verbose=1)\n",
        "\n",
        "# Train the GridSearchCV (which in turn trains the KNN model with different hyperparameters)\n",
        "grid_search.fit(train_x_vector, train_y)\n",
        "\n",
        "# Get the best KNN model from the GridSearchCV\n",
        "best_knn_model = grid_search.best_estimator_\n",
        "\n",
        "# You can now use the best_knn_model for predictions or other tasks\n"
      ],
      "metadata": {
        "colab": {
          "base_uri": "https://localhost:8080/"
        },
        "id": "0Ddr3jTNmN1B",
        "outputId": "a651e1b2-6d5a-49d6-8341-be5dfa9113b6"
      },
      "id": "0Ddr3jTNmN1B",
      "execution_count": 99,
      "outputs": [
        {
          "output_type": "stream",
          "name": "stdout",
          "text": [
            "Fitting 5 folds for each of 5 candidates, totalling 25 fits\n"
          ]
        }
      ]
    },
    {
      "cell_type": "markdown",
      "id": "89594f17",
      "metadata": {
        "papermill": {
          "duration": 0.033336,
          "end_time": "2022-03-15T05:15:24.246622",
          "exception": false,
          "start_time": "2022-03-15T05:15:24.213286",
          "status": "completed"
        },
        "tags": [],
        "id": "89594f17"
      },
      "source": [
        "\n",
        "## Logistic Regression\n"
      ]
    },
    {
      "cell_type": "code",
      "execution_count": null,
      "id": "ff6b8d24",
      "metadata": {
        "execution": {
          "iopub.execute_input": "2022-03-15T05:15:24.338204Z",
          "iopub.status.busy": "2022-03-15T05:15:24.337182Z",
          "iopub.status.idle": "2022-03-15T05:15:24.502013Z",
          "shell.execute_reply": "2022-03-15T05:15:24.503476Z",
          "shell.execute_reply.started": "2022-03-15T05:13:04.724869Z"
        },
        "papermill": {
          "duration": 0.22347,
          "end_time": "2022-03-15T05:15:24.503749",
          "exception": false,
          "start_time": "2022-03-15T05:15:24.280279",
          "status": "completed"
        },
        "tags": [],
        "id": "ff6b8d24"
      },
      "outputs": [],
      "source": [
        "from sklearn.linear_model import LogisticRegression\n",
        "from sklearn.model_selection import GridSearchCV\n",
        "\n",
        "# Create an instance of the LogisticRegression classifier\n",
        "log_reg = LogisticRegression(max_iter=10000)  # Increase max_iter to ensure convergence\n",
        "\n",
        "# Define the hyperparameters to tune\n",
        "param_grid = {\n",
        "    'penalty': ['l1', 'l2', 'elasticnet', 'none'],\n",
        "    'C': [0.001, 0.01, 0.1, 1, 10, 100],\n",
        "    'solver': ['newton-cg', 'lbfgs', 'liblinear', 'sag', 'saga'],\n",
        "    'max_iter': [100, 1000, 10000]  # Adjust the range as needed\n",
        "}\n",
        "\n",
        "# Create GridSearchCV with the logistic regression model and parameter grid\n",
        "grid_search = GridSearchCV(log_reg, param_grid, cv=5, scoring='accuracy', verbose=1)\n",
        "\n",
        "# Train the GridSearchCV (which in turn trains the logistic regression model with different hyperparameters)\n",
        "grid_search.fit(train_x_vector, train_y)\n",
        "\n",
        "# Get the best logistic regression model from the GridSearchCV\n",
        "best_log_reg_model = grid_search.best_estimator_\n",
        "\n",
        "# You can now use the best_log_reg_model for predictions or other tasks\n"
      ]
    },
    {
      "cell_type": "markdown",
      "id": "a53a31df",
      "metadata": {
        "papermill": {
          "duration": 0.034365,
          "end_time": "2022-03-15T05:15:24.646936",
          "exception": false,
          "start_time": "2022-03-15T05:15:24.612571",
          "status": "completed"
        },
        "tags": [],
        "id": "a53a31df"
      },
      "source": [
        ">Note: Here notice that we are using review dataframe in vectorized form and sentiment dataframe in normal form it is so that model evaluates the vectorized values of review dataframe and gives out output in normal english not in a vectorized form so that it can be readable to us"
      ]
    },
    {
      "cell_type": "markdown",
      "id": "a6e7b622",
      "metadata": {
        "papermill": {
          "duration": 0.034066,
          "end_time": "2022-03-15T05:15:24.714931",
          "exception": false,
          "start_time": "2022-03-15T05:15:24.680865",
          "status": "completed"
        },
        "tags": [],
        "id": "a6e7b622"
      },
      "source": [
        "\n",
        "# 5. Model Evaluation\n"
      ]
    },
    {
      "cell_type": "markdown",
      "id": "8beff619",
      "metadata": {
        "papermill": {
          "duration": 0.033526,
          "end_time": "2022-03-15T05:15:24.782239",
          "exception": false,
          "start_time": "2022-03-15T05:15:24.748713",
          "status": "completed"
        },
        "tags": [],
        "id": "8beff619"
      },
      "source": [
        "## Mean Accuracy"
      ]
    },
    {
      "cell_type": "code",
      "execution_count": 105,
      "id": "cb10d1cb",
      "metadata": {
        "execution": {
          "iopub.execute_input": "2022-03-15T05:15:24.855516Z",
          "iopub.status.busy": "2022-03-15T05:15:24.854748Z",
          "iopub.status.idle": "2022-03-15T05:15:25.912120Z",
          "shell.execute_reply": "2022-03-15T05:15:25.911351Z",
          "shell.execute_reply.started": "2022-03-15T05:13:04.938140Z"
        },
        "papermill": {
          "duration": 1.096187,
          "end_time": "2022-03-15T05:15:25.912314",
          "exception": false,
          "start_time": "2022-03-15T05:15:24.816127",
          "status": "completed"
        },
        "tags": [],
        "colab": {
          "base_uri": "https://localhost:8080/"
        },
        "id": "cb10d1cb",
        "outputId": "524ad77b-f70c-4ddd-abd7-3ab9344d520b"
      },
      "outputs": [
        {
          "output_type": "stream",
          "name": "stdout",
          "text": [
            "0.8045454545454546\n",
            "0.6742424242424242\n",
            "0.7833333333333333\n",
            "0.746969696969697\n",
            "0.8303030303030303\n"
          ]
        }
      ],
      "source": [
        "print(svc.score(test_x_vector, test_y))\n",
        "print(best_dec_tree_model.score(test_x_vector, test_y))\n",
        "print(best_rand_forest_model.score(test_x_vector, test_y))\n",
        "print(best_knn_model.score(test_x_vector, test_y))\n",
        "print(best_log_reg_model.score(test_x_vector, test_y))"
      ]
    },
    {
      "cell_type": "code",
      "source": [
        "from sklearn.metrics import classification_report\n",
        "print(\"LINEAR SVM\")\n",
        "print(classification_report(test_y,\n",
        "                            svc.predict(test_x_vector),\n",
        "                            labels = ['positive','negative']))\n",
        "print(\"Accuracy:\", svc.score(test_x_vector, test_y))\n",
        "\n",
        "print(\"-------\")\n",
        "print(\"Decision Tree\")\n",
        "print(classification_report(test_y,\n",
        "                            best_dec_tree_model.predict(test_x_vector),\n",
        "                            labels = ['positive','negative']))\n",
        "print(\"Accuracy:\", best_dec_tree_model.score(test_x_vector, test_y))\n",
        "\n",
        "\n",
        "print(\"-------\")\n",
        "print(\"Random Tree\")\n",
        "print(classification_report(test_y,\n",
        "                            best_rand_forest_model.predict(test_x_vector),\n",
        "                            labels = ['positive','negative']))\n",
        "print(\"Accuracy:\", best_rand_forest_model.score(test_x_vector, test_y))\n",
        "\n",
        "print(\"-------\")\n",
        "print(\"KNN\")\n",
        "print(classification_report(test_y,\n",
        "                            best_knn_model.predict(test_x_vector),\n",
        "                            labels = ['positive','negative']))\n",
        "print(\"Accuracy:\", best_knn_model.score(test_x_vector, test_y))\n",
        "\n",
        "print(\"-------\")\n",
        "print(\"Logistic regression\")\n",
        "print(classification_report(test_y,\n",
        "                            best_log_reg_model.predict(test_x_vector),\n",
        "                            labels = ['positive','negative']))\n",
        "print(\"Accuracy:\", best_log_reg_model.score(test_x_vector, test_y))"
      ],
      "metadata": {
        "colab": {
          "base_uri": "https://localhost:8080/"
        },
        "id": "Sp2R1GUAtJwQ",
        "outputId": "92309e8f-84a2-4fb8-981f-2dc944358f60"
      },
      "id": "Sp2R1GUAtJwQ",
      "execution_count": 104,
      "outputs": [
        {
          "output_type": "stream",
          "name": "stdout",
          "text": [
            "LINEAR SVM\n",
            "              precision    recall  f1-score   support\n",
            "\n",
            "    positive       0.80      0.83      0.81       335\n",
            "    negative       0.81      0.78      0.80       325\n",
            "\n",
            "    accuracy                           0.80       660\n",
            "   macro avg       0.81      0.80      0.80       660\n",
            "weighted avg       0.80      0.80      0.80       660\n",
            "\n",
            "Accuracy: 0.8045454545454546\n",
            "-------\n",
            "Decision Tree\n",
            "              precision    recall  f1-score   support\n",
            "\n",
            "    positive       0.67      0.70      0.68       335\n",
            "    negative       0.68      0.65      0.66       325\n",
            "\n",
            "    accuracy                           0.67       660\n",
            "   macro avg       0.67      0.67      0.67       660\n",
            "weighted avg       0.67      0.67      0.67       660\n",
            "\n",
            "Accuracy: 0.6742424242424242\n",
            "-------\n",
            "Random Tree\n",
            "              precision    recall  f1-score   support\n",
            "\n",
            "    positive       0.77      0.82      0.79       335\n",
            "    negative       0.80      0.75      0.77       325\n",
            "\n",
            "    accuracy                           0.78       660\n",
            "   macro avg       0.78      0.78      0.78       660\n",
            "weighted avg       0.78      0.78      0.78       660\n",
            "\n",
            "Accuracy: 0.7833333333333333\n",
            "-------\n",
            "KNN\n",
            "              precision    recall  f1-score   support\n",
            "\n",
            "    positive       0.81      0.65      0.72       335\n",
            "    negative       0.70      0.84      0.77       325\n",
            "\n",
            "    accuracy                           0.75       660\n",
            "   macro avg       0.76      0.75      0.75       660\n",
            "weighted avg       0.76      0.75      0.74       660\n",
            "\n",
            "Accuracy: 0.746969696969697\n",
            "-------\n",
            "Logistic regression\n",
            "              precision    recall  f1-score   support\n",
            "\n",
            "    positive       0.83      0.84      0.83       335\n",
            "    negative       0.83      0.82      0.83       325\n",
            "\n",
            "    accuracy                           0.83       660\n",
            "   macro avg       0.83      0.83      0.83       660\n",
            "weighted avg       0.83      0.83      0.83       660\n",
            "\n",
            "Accuracy: 0.8303030303030303\n"
          ]
        }
      ]
    },
    {
      "cell_type": "markdown",
      "id": "d10d530d",
      "metadata": {
        "papermill": {
          "duration": 0.035591,
          "end_time": "2022-03-15T05:15:25.983542",
          "exception": false,
          "start_time": "2022-03-15T05:15:25.947951",
          "status": "completed"
        },
        "tags": [],
        "id": "d10d530d"
      },
      "source": [
        "SVM and Logistic Regression perform better than the other two classifiers, with SVM having a slight advantage (84% of accuracy).Thus,we’ll focus only on SVM."
      ]
    },
    {
      "cell_type": "markdown",
      "id": "da729628",
      "metadata": {
        "papermill": {
          "duration": 0.035618,
          "end_time": "2022-03-15T05:15:26.054248",
          "exception": false,
          "start_time": "2022-03-15T05:15:26.018630",
          "status": "completed"
        },
        "tags": [],
        "id": "da729628"
      },
      "source": [
        "## F1 Score\n",
        "\n",
        "F1 Score is the weighted average of Precision and Recall. Accuracy is used when the True Positives and True negatives are more important while F1-score is used when the False Negatives and False Positives are crucial. Also, F1 takes into account how the data is distributed, so it’s useful when you have data with imbalance classes."
      ]
    },
    {
      "cell_type": "code",
      "execution_count": 21,
      "id": "afe43eba",
      "metadata": {
        "execution": {
          "iopub.execute_input": "2022-03-15T05:15:26.129271Z",
          "iopub.status.busy": "2022-03-15T05:15:26.128320Z",
          "iopub.status.idle": "2022-03-15T05:15:26.874207Z",
          "shell.execute_reply": "2022-03-15T05:15:26.873630Z",
          "shell.execute_reply.started": "2022-03-15T05:13:06.074990Z"
        },
        "papermill": {
          "duration": 0.784617,
          "end_time": "2022-03-15T05:15:26.874397",
          "exception": false,
          "start_time": "2022-03-15T05:15:26.089780",
          "status": "completed"
        },
        "tags": [],
        "colab": {
          "base_uri": "https://localhost:8080/"
        },
        "id": "afe43eba",
        "outputId": "bccfafa2-cc69-4edc-a52f-2dcc9b97d00a"
      },
      "outputs": [
        {
          "output_type": "execute_result",
          "data": {
            "text/plain": [
              "array([0.84671533, 0.83464567])"
            ]
          },
          "metadata": {},
          "execution_count": 21
        }
      ],
      "source": [
        "from sklearn.metrics import f1_score\n",
        "\n",
        "f1_score(test_y,svc.predict(test_x_vector),\n",
        "          labels = ['positive','negative'],average=None)"
      ]
    },
    {
      "cell_type": "markdown",
      "id": "7a09de86",
      "metadata": {
        "papermill": {
          "duration": 0.042176,
          "end_time": "2022-03-15T05:15:26.962361",
          "exception": false,
          "start_time": "2022-03-15T05:15:26.920185",
          "status": "completed"
        },
        "tags": [],
        "id": "7a09de86"
      },
      "source": [
        "## Classification report"
      ]
    },
    {
      "cell_type": "code",
      "execution_count": 22,
      "id": "7b033bc1",
      "metadata": {
        "execution": {
          "iopub.execute_input": "2022-03-15T05:15:27.054646Z",
          "iopub.status.busy": "2022-03-15T05:15:27.053695Z",
          "iopub.status.idle": "2022-03-15T05:15:27.809093Z",
          "shell.execute_reply": "2022-03-15T05:15:27.808608Z",
          "shell.execute_reply.started": "2022-03-15T05:13:06.821605Z"
        },
        "papermill": {
          "duration": 0.801379,
          "end_time": "2022-03-15T05:15:27.809238",
          "exception": false,
          "start_time": "2022-03-15T05:15:27.007859",
          "status": "completed"
        },
        "tags": [],
        "colab": {
          "base_uri": "https://localhost:8080/"
        },
        "id": "7b033bc1",
        "outputId": "4a88159c-f4d6-4f69-a405-e713147c7a33"
      },
      "outputs": [
        {
          "output_type": "stream",
          "name": "stdout",
          "text": [
            "              precision    recall  f1-score   support\n",
            "\n",
            "    positive       0.83      0.87      0.85       335\n",
            "    negative       0.85      0.82      0.83       325\n",
            "\n",
            "    accuracy                           0.84       660\n",
            "   macro avg       0.84      0.84      0.84       660\n",
            "weighted avg       0.84      0.84      0.84       660\n",
            "\n"
          ]
        }
      ],
      "source": [
        "from sklearn.metrics import classification_report\n",
        "\n",
        "print(classification_report(test_y,\n",
        "                            svc.predict(test_x_vector),\n",
        "                            labels = ['positive','negative']))"
      ]
    },
    {
      "cell_type": "markdown",
      "id": "6d0c4cd9",
      "metadata": {
        "papermill": {
          "duration": 0.034895,
          "end_time": "2022-03-15T05:15:27.881865",
          "exception": false,
          "start_time": "2022-03-15T05:15:27.846970",
          "status": "completed"
        },
        "tags": [],
        "id": "6d0c4cd9"
      },
      "source": [
        "## Confusion Matrix\n",
        "\n",
        "A confusion matrix is a table that allows visualization of the performance of an algorithm. This table typically has two rows and two columns that report the number of false positives, false negatives, true positives, and true negatives"
      ]
    },
    {
      "cell_type": "code",
      "execution_count": 59,
      "id": "bb205b4d",
      "metadata": {
        "execution": {
          "iopub.execute_input": "2022-03-15T05:15:27.957507Z",
          "iopub.status.busy": "2022-03-15T05:15:27.956643Z",
          "iopub.status.idle": "2022-03-15T05:15:28.696549Z",
          "shell.execute_reply": "2022-03-15T05:15:28.696947Z",
          "shell.execute_reply.started": "2022-03-15T05:13:07.590631Z"
        },
        "papermill": {
          "duration": 0.77995,
          "end_time": "2022-03-15T05:15:28.697136",
          "exception": false,
          "start_time": "2022-03-15T05:15:27.917186",
          "status": "completed"
        },
        "tags": [],
        "colab": {
          "base_uri": "https://localhost:8080/",
          "height": 564
        },
        "id": "bb205b4d",
        "outputId": "e2c0de9f-5828-4856-f75a-2dc3be3f657f"
      },
      "outputs": [
        {
          "output_type": "display_data",
          "data": {
            "text/plain": [
              "<Figure size 800x600 with 2 Axes>"
            ],
            "image/png": "[encoded data removed]"
          },
          "metadata": {}
        }
      ],
      "source": [
        "import matplotlib.pyplot as plt\n",
        "import seaborn as sns\n",
        "from sklearn.metrics import confusion_matrix\n",
        "\n",
        "# Compute confusion matrix\n",
        "conf_mat = confusion_matrix(test_y, svc.predict(test_x_vector), labels=['positive', 'negative'])\n",
        "\n",
        "# Plot confusion matrix as a heatmap\n",
        "plt.figure(figsize=(8, 6))\n",
        "sns.heatmap(conf_mat, annot=True, fmt='d', cmap='Blues',\n",
        "            xticklabels=['positive', 'negative'],\n",
        "            yticklabels=['positive', 'negative'])\n",
        "plt.xlabel('Predicted Label')\n",
        "plt.ylabel('True Label')\n",
        "plt.title('Confusion Matrix for SVC')\n",
        "plt.show()"
      ]
    },
    {
      "cell_type": "markdown",
      "id": "23dc2714",
      "metadata": {
        "papermill": {
          "duration": 0.035267,
          "end_time": "2022-03-15T05:15:28.768202",
          "exception": false,
          "start_time": "2022-03-15T05:15:28.732935",
          "status": "completed"
        },
        "tags": [],
        "id": "23dc2714"
      },
      "source": [
        "\n",
        "# 6. Tuning the Model\n"
      ]
    },
    {
      "cell_type": "markdown",
      "id": "63a79cfb",
      "metadata": {
        "papermill": {
          "duration": 0.036149,
          "end_time": "2022-03-15T05:15:28.840853",
          "exception": false,
          "start_time": "2022-03-15T05:15:28.804704",
          "status": "completed"
        },
        "tags": [],
        "id": "63a79cfb"
      },
      "source": [
        "## GridSearchCV\n",
        "\n",
        "This is technique consists of an exhaustive search on specified parameters in order to obtain the optimum values of hyperparameters."
      ]
    },
    {
      "cell_type": "code",
      "source": [
        "import matplotlib.pyplot as plt\n",
        "import numpy as np\n",
        "import pandas as pd\n",
        "from sklearn.model_selection import GridSearchCV\n",
        "from sklearn.svm import SVC\n",
        "\n",
        "# Set the parameters\n",
        "params = {'C': [1, 4, 8, 16, 32], 'kernel': ['linear', 'rbf']}\n",
        "svc = SVC()\n",
        "svc_grid = GridSearchCV(svc, params, cv=5)\n",
        "svc_grid.fit(train_x_vector, train_y)\n",
        "\n",
        "# Extract the results from the grid search\n",
        "results = svc_grid.cv_results_\n",
        "df = pd.DataFrame(results)\n",
        "\n",
        "# Plotting\n",
        "plt.figure(figsize=(10, 6))\n",
        "for kernel in ['linear', 'rbf']:\n",
        "    subset = df[df['param_kernel'] == kernel]\n",
        "    plt.plot(subset['param_C'], subset['mean_test_score'], label=f'Kernel = {kernel}')\n",
        "\n",
        "plt.title('Grid Search Results for SVC')\n",
        "plt.xlabel('C')\n",
        "plt.ylabel('Mean Cross-validated Accuracy')\n",
        "plt.legend()\n",
        "plt.grid(True)\n",
        "plt.show()\n"
      ],
      "metadata": {
        "colab": {
          "base_uri": "https://localhost:8080/",
          "height": 564
        },
        "id": "-Crkyt7Vvwaw",
        "outputId": "64bdb759-1fef-4176-9fdc-44472a4ecf4b"
      },
      "id": "-Crkyt7Vvwaw",
      "execution_count": 60,
      "outputs": [
        {
          "output_type": "display_data",
          "data": {
            "text/plain": [
              "<Figure size 1000x600 with 1 Axes>"
            ],
            "image/png": "[encoded data removed]"
          },
          "metadata": {}
        }
      ]
    },
    {
      "cell_type": "code",
      "execution_count": 24,
      "id": "8be5a4ef",
      "metadata": {
        "execution": {
          "iopub.execute_input": "2022-03-15T05:15:28.924665Z",
          "iopub.status.busy": "2022-03-15T05:15:28.923619Z",
          "iopub.status.idle": "2022-03-15T05:16:40.760675Z",
          "shell.execute_reply": "2022-03-15T05:16:40.761160Z",
          "shell.execute_reply.started": "2022-03-15T05:13:08.338252Z"
        },
        "papermill": {
          "duration": 71.883067,
          "end_time": "2022-03-15T05:16:40.761347",
          "exception": false,
          "start_time": "2022-03-15T05:15:28.878280",
          "status": "completed"
        },
        "tags": [],
        "colab": {
          "base_uri": "https://localhost:8080/",
          "height": 203
        },
        "id": "8be5a4ef",
        "outputId": "bc30eee3-bbed-4984-a95d-895852412d14"
      },
      "outputs": [
        {
          "output_type": "execute_result",
          "data": {
            "text/plain": [
              "GridSearchCV(cv=5, estimator=SVC(),\n",
              "             param_grid={'C': [1, 4, 8, 16, 32], 'kernel': ['linear', 'rbf']})"
            ],
            "text/html": [
              "<style>#sk-container-id-6 {color: black;background-color: white;}#sk-container-id-6 pre{padding: 0;}#sk-container-id-6 div.sk-toggleable {background-color: white;}#sk-container-id-6 label.sk-toggleable__label {cursor: pointer;display: block;width: 100%;margin-bottom: 0;padding: 0.3em;box-sizing: border-box;text-align: center;}#sk-container-id-6 label.sk-toggleable__label-arrow:before {content: \"▸\";float: left;margin-right: 0.25em;color: #696969;}#sk-container-id-6 label.sk-toggleable__label-arrow:hover:before {color: black;}#sk-container-id-6 div.sk-estimator:hover label.sk-toggleable__label-arrow:before {color: black;}#sk-container-id-6 div.sk-toggleable__content {max-height: 0;max-width: 0;overflow: hidden;text-align: left;background-color: #f0f8ff;}#sk-container-id-6 div.sk-toggleable__content pre {margin: 0.2em;color: black;border-radius: 0.25em;background-color: #f0f8ff;}#sk-container-id-6 input.sk-toggleable__control:checked~div.sk-toggleable__content {max-height: 200px;max-width: 100%;overflow: auto;}#sk-container-id-6 input.sk-toggleable__control:checked~label.sk-toggleable__label-arrow:before {content: \"▾\";}#sk-container-id-6 div.sk-estimator input.sk-toggleable__control:checked~label.sk-toggleable__label {background-color: #d4ebff;}#sk-container-id-6 div.sk-label input.sk-toggleable__control:checked~label.sk-toggleable__label {background-color: #d4ebff;}#sk-container-id-6 input.sk-hidden--visually {border: 0;clip: rect(1px 1px 1px 1px);clip: rect(1px, 1px, 1px, 1px);height: 1px;margin: -1px;overflow: hidden;padding: 0;position: absolute;width: 1px;}#sk-container-id-6 div.sk-estimator {font-family: monospace;background-color: #f0f8ff;border: 1px dotted black;border-radius: 0.25em;box-sizing: border-box;margin-bottom: 0.5em;}#sk-container-id-6 div.sk-estimator:hover {background-color: #d4ebff;}#sk-container-id-6 div.sk-parallel-item::after {content: \"\";width: 100%;border-bottom: 1px solid gray;flex-grow: 1;}#sk-container-id-6 div.sk-label:hover label.sk-toggleable__label {background-color: #d4ebff;}#sk-container-id-6 div.sk-serial::before {content: \"\";position: absolute;border-left: 1px solid gray;box-sizing: border-box;top: 0;bottom: 0;left: 50%;z-index: 0;}#sk-container-id-6 div.sk-serial {display: flex;flex-direction: column;align-items: center;background-color: white;padding-right: 0.2em;padding-left: 0.2em;position: relative;}#sk-container-id-6 div.sk-item {position: relative;z-index: 1;}#sk-container-id-6 div.sk-parallel {display: flex;align-items: stretch;justify-content: center;background-color: white;position: relative;}#sk-container-id-6 div.sk-item::before, #sk-container-id-6 div.sk-parallel-item::before {content: \"\";position: absolute;border-left: 1px solid gray;box-sizing: border-box;top: 0;bottom: 0;left: 50%;z-index: -1;}#sk-container-id-6 div.sk-parallel-item {display: flex;flex-direction: column;z-index: 1;position: relative;background-color: white;}#sk-container-id-6 div.sk-parallel-item:first-child::after {align-self: flex-end;width: 50%;}#sk-container-id-6 div.sk-parallel-item:last-child::after {align-self: flex-start;width: 50%;}#sk-container-id-6 div.sk-parallel-item:only-child::after {width: 0;}#sk-container-id-6 div.sk-dashed-wrapped {border: 1px dashed gray;margin: 0 0.4em 0.5em 0.4em;box-sizing: border-box;padding-bottom: 0.4em;background-color: white;}#sk-container-id-6 div.sk-label label {font-family: monospace;font-weight: bold;display: inline-block;line-height: 1.2em;}#sk-container-id-6 div.sk-label-container {text-align: center;}#sk-container-id-6 div.sk-container {/* jupyter's `normalize.less` sets `[hidden] { display: none; }` but bootstrap.min.css set `[hidden] { display: none !important; }` so we also need the `!important` here to be able to override the default hidden behavior on the sphinx rendered scikit-learn.org. See: https://github.com/scikit-learn/scikit-learn/issues/21755 */display: inline-block !important;position: relative;}#sk-container-id-6 div.sk-text-repr-fallback {display: none;}</style><div id=\"sk-container-id-6\" class=\"sk-top-container\"><div class=\"sk-text-repr-fallback\"><pre>GridSearchCV(cv=5, estimator=SVC(),\n",
              "             param_grid={&#x27;C&#x27;: [1, 4, 8, 16, 32], &#x27;kernel&#x27;: [&#x27;linear&#x27;, &#x27;rbf&#x27;]})</pre><b>In a Jupyter environment, please rerun this cell to show the HTML representation or trust the notebook. <br />On GitHub, the HTML representation is unable to render, please try loading this page with nbviewer.org.</b></div><div class=\"sk-container\" hidden><div class=\"sk-item sk-dashed-wrapped\"><div class=\"sk-label-container\"><div class=\"sk-label sk-toggleable\"><input class=\"sk-toggleable__control sk-hidden--visually\" id=\"sk-estimator-id-6\" type=\"checkbox\" ><label for=\"sk-estimator-id-6\" class=\"sk-toggleable__label sk-toggleable__label-arrow\">GridSearchCV</label><div class=\"sk-toggleable__content\"><pre>GridSearchCV(cv=5, estimator=SVC(),\n",
              "             param_grid={&#x27;C&#x27;: [1, 4, 8, 16, 32], &#x27;kernel&#x27;: [&#x27;linear&#x27;, &#x27;rbf&#x27;]})</pre></div></div></div><div class=\"sk-parallel\"><div class=\"sk-parallel-item\"><div class=\"sk-item\"><div class=\"sk-label-container\"><div class=\"sk-label sk-toggleable\"><input class=\"sk-toggleable__control sk-hidden--visually\" id=\"sk-estimator-id-7\" type=\"checkbox\" ><label for=\"sk-estimator-id-7\" class=\"sk-toggleable__label sk-toggleable__label-arrow\">estimator: SVC</label><div class=\"sk-toggleable__content\"><pre>SVC()</pre></div></div></div><div class=\"sk-serial\"><div class=\"sk-item\"><div class=\"sk-estimator sk-toggleable\"><input class=\"sk-toggleable__control sk-hidden--visually\" id=\"sk-estimator-id-8\" type=\"checkbox\" ><label for=\"sk-estimator-id-8\" class=\"sk-toggleable__label sk-toggleable__label-arrow\">SVC</label><div class=\"sk-toggleable__content\"><pre>SVC()</pre></div></div></div></div></div></div></div></div></div></div>"
            ]
          },
          "metadata": {},
          "execution_count": 24
        }
      ],
      "source": [
        "from sklearn.model_selection import GridSearchCV\n",
        "#set the parameters\n",
        "params = {'C': [1,4,8,16,32], 'kernel' : ['linear','rbf']}\n",
        "svc = SVC()\n",
        "svc_grid = GridSearchCV(svc,params, cv = 5)\n",
        "svc_grid.fit(train_x_vector, train_y)"
      ]
    },
    {
      "cell_type": "code",
      "execution_count": 43,
      "id": "6999e1ff",
      "metadata": {
        "execution": {
          "iopub.execute_input": "2022-03-15T05:16:40.839467Z",
          "iopub.status.busy": "2022-03-15T05:16:40.838677Z",
          "iopub.status.idle": "2022-03-15T05:16:40.841434Z",
          "shell.execute_reply": "2022-03-15T05:16:40.841847Z",
          "shell.execute_reply.started": "2022-03-15T05:14:20.231381Z"
        },
        "papermill": {
          "duration": 0.04473,
          "end_time": "2022-03-15T05:16:40.842043",
          "exception": false,
          "start_time": "2022-03-15T05:16:40.797313",
          "status": "completed"
        },
        "tags": [],
        "colab": {
          "base_uri": "https://localhost:8080/"
        },
        "id": "6999e1ff",
        "outputId": "846fb17c-88e4-46bc-eee2-cbd80fdfe342"
      },
      "outputs": [
        {
          "output_type": "stream",
          "name": "stdout",
          "text": [
            "{'C': 1, 'kernel': 'linear'}\n",
            "SVC(C=1, kernel='linear')\n"
          ]
        }
      ],
      "source": [
        "print(svc_grid.best_params_)\n",
        "print(svc_grid.best_estimator_)"
      ]
    },
    {
      "cell_type": "markdown",
      "id": "967feb98",
      "metadata": {
        "papermill": {
          "duration": 0.037315,
          "end_time": "2022-03-15T05:16:40.916401",
          "exception": false,
          "start_time": "2022-03-15T05:16:40.879086",
          "status": "completed"
        },
        "tags": [],
        "id": "967feb98"
      },
      "source": [
        "So Above obtained paramters and kernel are the best for our model to obtain desired results as accurate as possible"
      ]
    }
  ],
  "metadata": {
    "kernelspec": {
      "display_name": "Python 3",
      "language": "python",
      "name": "python3"
    },
    "language_info": {
      "codemirror_mode": {
        "name": "ipython",
        "version": 3
      },
      "file_extension": ".py",
      "mimetype": "text/x-python",
      "name": "python",
      "nbconvert_exporter": "python",
      "pygments_lexer": "ipython3",
      "version": "3.7.12"
    },
    "papermill": {
      "default_parameters": {},
      "duration": 95.3358,
      "end_time": "2022-03-15T05:16:41.764937",
      "environment_variables": {},
      "exception": null,
      "input_path": "__notebook__.ipynb",
      "output_path": "__notebook__.ipynb",
      "parameters": {},
      "start_time": "2022-03-15T05:15:06.429137",
      "version": "2.3.3"
    },
    "colab": {
      "provenance": [],
      "include_colab_link": true
    }
  },
  "nbformat": 4,
  "nbformat_minor": 5
}